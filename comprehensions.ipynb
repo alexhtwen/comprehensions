{
 "cells": [
  {
   "attachments": {},
   "cell_type": "markdown",
   "metadata": {},
   "source": [
    "<br><br><br><br>\n",
    "<div style=\"font-family: 'Gen Jyuu Gothic Monospace Medium', 'Noto Sans TC'; font-size: 200%; line-height: 135%; text-align: center; color: GreenYellow;\">\n",
    "\n",
    "# 講講Comprehensions\n",
    "</div>\n",
    "<br><br>"
   ]
  },
  {
   "attachments": {},
   "cell_type": "markdown",
   "metadata": {},
   "source": [
    "<div style=\"font-family:Inconsolata; font-size:500%;\">\n",
    "<header>\n",
    "<div style=\"text-align:center\"><img src=\"https://i.imgur.com/Yvp1371.jpg\" width=\"500\"/></div>"
   ]
  },
  {
   "cell_type": "code",
   "execution_count": 19,
   "metadata": {},
   "outputs": [
    {
     "data": {
      "text/plain": [
       "'interactiveShell imported.'"
      ]
     },
     "execution_count": 19,
     "metadata": {},
     "output_type": "execute_result"
    },
    {
     "data": {
      "text/plain": [
       "'now: 05:42:56'"
      ]
     },
     "execution_count": 19,
     "metadata": {},
     "output_type": "execute_result"
    }
   ],
   "source": [
    "import time\n",
    "\n",
    "from IPython.core.interactiveshell import InteractiveShell \n",
    "InteractiveShell.ast_node_interactivity = \"all\"\n",
    "\n",
    "'interactiveShell imported.'\n",
    "f\"now: {time.strftime('%H:%M:%S', time.localtime())}\""
   ]
  },
  {
   "attachments": {},
   "cell_type": "markdown",
   "metadata": {},
   "source": [
    "<div style=\"font-family:Inconsolata; font-size:135%;\">\n",
    "\n",
    "## <font color='SteelBlue'><b>Comprehensions-1：名稱由來</b></font>\n",
    "\n",
    "* comprehension一字較常見的意思是：\n",
    "    > <span style=\"font-family:Inconsolata; font-size:90%; color:LightSlateGrey;\">the ability to understand completely and be familiar with a situation, facts...</span>\n",
    "* 中文稱為「理解力」或「領悟能力」。\n",
    "* 不過，這個字還有以下意義：\n",
    "   > <span style=\"font-family:Inconsolata; font-size:90%; color:LightSlateGrey;\">The name comes from the concept of a set-comprehension.  Comprehension is used here to mean <font color='Gold'>complete inclusion or complete description</font>. A set-comprehension is a (usually short) complete description of a set, not an exhaustive (and possibly infinite) enumeration.</span>\n",
    "* 原來在programming和maths領域，comrehension此字由來已久，Python並不是第一個使用的。\n",
    "   > <span style=\"font-family:Inconsolata; font-size:90%; color:LightSlateGrey;\">...it has a long history. You'll find list comprehensions in many Functional Programming languages and something similar in discrete mathematics(離散數學).</span>"
   ]
  },
  {
   "attachments": {},
   "cell_type": "markdown",
   "metadata": {},
   "source": [
    "<div style=\"font-family:Inconsolata; font-size:500%;\">\n",
    "<header>\n",
    "<div style=\"text-align:center\"><img src=\"https://i.imgur.com/KsSJqM6.jpg\" width=\"500\"/></div>"
   ]
  },
  {
   "attachments": {},
   "cell_type": "markdown",
   "metadata": {},
   "source": [
    "<div style=\"font-family:Inconsolata; font-size:135%;\">\n",
    "\n",
    "## <font color='SteelBlue'><b>Comprehensions-2：基礎</b></font>\n",
    "\n",
    "<div style=\"font-family:Inconsolata; font-size:160%; color:Gold; text-align: center;\"><br><font color='DarkSalmon'>[&#60;expression&#62;</font> for <font color='LightSlateGrey'>&#60;item&#62;</font> in <font color='DarkSalmon'>&#60;iterable&#62;</font>]<br></div>\n",
    "\n",
    "* 在comprehensions中，一定有個`for`。看到`for`，馬上就連想到和for loop有關。最不費力的說法：comprehension是個精簡版的for迴圈，迴圈內做了某些工作，讓它成為某個結構。\n",
    "* 目前暫這樣模模糊糊解釋吧，先看以下兩個詞兒。\n"
   ]
  },
  {
   "attachments": {},
   "cell_type": "markdown",
   "metadata": {},
   "source": [
    "<div style=\"font-family:Inconsolata; font-size:500%;\">\n",
    "<header>\n",
    "<div style=\"text-align:center\"><img src=\"https://i.imgur.com/t3uiGKs.jpg\" width=\"500\"/></div>"
   ]
  },
  {
   "attachments": {},
   "cell_type": "markdown",
   "metadata": {},
   "source": [
    "<div style=\"font-family:Inconsolata; font-size:135%;\">\n",
    "\n",
    "### <font color='DarkSalmon'><b>Expression(運算式)</b></font>\n",
    "<div style=\"text-align:center\"><img src=\"https://i.imgur.com/W2tPkio.png\" width=\"650\"/></div>\n",
    "\n",
    "* 上面式子最前的<span style=\"font-family:Inconsolata; font-size:120%; color:DarkSalmon;\">expression</span>表示任何Python的合法「運算式」。\n",
    "* [Python官網對`expression`的解釋：](https://docs.python.org/3/search.html?q=expression)\n",
    "    > <span style=\"font-family:Inconsolata; font-size:90%; color:LightSlateGrey;\">A piece of syntax which <font color='NavajoWhite'>can be evaluated to some <span style=\"color: Gold; font-weight: 900; font-size:150%;\">value</span></font>. In other words, an expression is an accumulation of expression elements like literals, names, attribute access, operators or function calls which all return a value.<br><br>\n",
    "    > In contrast to many other languages, not all language constructs are expressions. There are also statements which cannot be used as expressions, such as while. Assignments are also statements, not expressions.\n",
    "* 中文：<span style=\"font-family:Inconsolata; font-size:100%; color:DarkSalmon;\">expression</span>是literals(定數)、變數、屬性、函數傳回值...等，或以上結構加上+, -, *, /, ==, <, >等運算子的「<span style=\"color: Gold; font-weight: 900; font-size:130%;\">有值</span>」語法片段。例如：\n",
    "    <div style=\"font-size:85%;\">\n",
    "\n",
    "    |expression|說明|\n",
    "    |--|--|\n",
    "    |123|integer literal(整數定數)|\n",
    "    | 'Alex'     |string literal(字串定數)|\n",
    "    | name       |variable(變數)|\n",
    "    | (2 + 2)*3  |四則運算(運算結果是int)|\n",
    "    | score == 3 |比較運算(運算結果是bool)|\n",
    "    | df.shape|property(傳回tuple)(註1)|\n",
    "    | id(df)     |function call(傳回int)|\n",
    "    \n",
    "    註1: 是property，非attribute。\n",
    "    </div>    \n",
    "* 請留意：<span style=\"font-family:Inconsolata; font-size:100%; color:DarkSalmon;\">expression</span>和<span style=\"font-family:Inconsolata; font-size:100%; color:DarkSalmon;\">statement</span>是不同的語法結構。以while, if, for, match/case, import, def等開頭的都是<span style=\"font-family:Inconsolata; font-size:100%; color:DarkSalmon;\">statement</span>而非<span style=\"font-family:Inconsolata; font-size:100%; color:DarkSalmon;\">expression</span>。「賦值」運算(如x = y, x += y等)也是<span style=\"font-family:Inconsolata; font-size:100%; color:DarkSalmon;\">statement</span>。\n"
   ]
  },
  {
   "cell_type": "code",
   "execution_count": null,
   "metadata": {},
   "outputs": [],
   "source": [
    "# 以下print()的參數都是expressions。\n",
    "print(123)\n",
    "print('Alex')\n",
    "print((2 + 2)*3)\n",
    "score = 20\n",
    "print(score)\n",
    "print(score == 3)\n",
    "print(id(score))"
   ]
  },
  {
   "cell_type": "code",
   "execution_count": null,
   "metadata": {},
   "outputs": [],
   "source": [
    "# 以下每一行都是statements。\n",
    "import random\n",
    "\n",
    "while True: \n",
    "    score = random.randint(10, 100) \n",
    "    if score < 30:\n",
    "        score += 10\n",
    "        break\n",
    "\n",
    "for _ in range(9):\n",
    "    pass"
   ]
  },
  {
   "attachments": {},
   "cell_type": "markdown",
   "metadata": {},
   "source": [
    "<div style=\"text-align:left\"><img src=\"https://i.imgur.com/goBU3Qb.png\" width=\"750\"/></div>"
   ]
  },
  {
   "cell_type": "code",
   "execution_count": 21,
   "metadata": {},
   "outputs": [
    {
     "name": "stdout",
     "output_type": "stream",
     "text": [
      "range(0, 9)\n"
     ]
    }
   ],
   "source": [
    "r = range(9)\n",
    "print(r)"
   ]
  },
  {
   "attachments": {},
   "cell_type": "markdown",
   "metadata": {},
   "source": [
    "<div style=\"font-family:Inconsolata; font-size:135%;\">\n",
    "\n",
    "#### <font color='SkyBlue'><b>Assignment Expression</b></font>\n",
    "\n",
    "* Python從3.8版起的Walrus Operator<span style=\"font-size:120%; color:tomato;\">:=</span>，正式名稱是<span style=\"font-family:Inconsolata; font-size:100%; color:Gold;\">assignment expression</span>，所以是<span style=\"font-family:Inconsolata; font-size:100%; color:DarkSalmon;\">expression</span>而非<span style=\"font-family:Inconsolata; font-size:100%; color:DarkSalmon;\">statement</span>。\n",
    "* 範例：\n"
   ]
  },
  {
   "cell_type": "code",
   "execution_count": null,
   "metadata": {},
   "outputs": [],
   "source": [
    "# assignment expression example-1\n",
    "my_list = [1, 2, 3]\n",
    "# 比較運算子'>'的前後都必須是expression，所以(length := len(my_list))\n",
    "# 就是expression。\n",
    "# 在這裡不能寫成(length = len(my_list))，因為「賦值」是statement而非expression。\n",
    "if (length := len(my_list)) > 2:   \n",
    "    print(f'List length of {length} is too long.')\n",
    "    "
   ]
  },
  {
   "attachments": {},
   "cell_type": "markdown",
   "metadata": {},
   "source": [
    "<div style=\"text-align:left\"><img src=\"https://i.imgur.com/4LHQlCu.png\" width=\"850\"/></div>\n"
   ]
  },
  {
   "cell_type": "code",
   "execution_count": null,
   "metadata": {},
   "outputs": [],
   "source": [
    "# assignment expression example-2\n",
    "with open('./python_zen.txt', 'r') as f:\n",
    "    # 下列動作： 1)讀取一行文字並存入line； 2)判斷line是否為空字串。\n",
    "    while line := f.readline():  \n",
    "        print(line, end='')\n",
    "        \n"
   ]
  },
  {
   "cell_type": "code",
   "execution_count": null,
   "metadata": {},
   "outputs": [],
   "source": [
    "# assignment expression example-3\n",
    "# 新list的每個元素都是原list/tuple之前元素的累加。\n",
    "nums = (2, 7.6, 3, -5.1, 0)\n",
    "square = 0\n",
    "print(f'{nums = }')\n",
    "print(f'{[square := num + square for num in nums] = }')\n"
   ]
  },
  {
   "attachments": {},
   "cell_type": "markdown",
   "metadata": {},
   "source": [
    "<div style=\"font-family:Inconsolata; font-size:500%;\">\n",
    "<header>\n",
    "<div style=\"text-align:center\"><img src=\"https://i.imgur.com/2pY43Z0.jpg\" width=\"500\"/></div>"
   ]
  },
  {
   "attachments": {},
   "cell_type": "markdown",
   "metadata": {},
   "source": [
    "<div style=\"font-family:Inconsolata; font-size:135%;\">\n",
    "\n",
    "### <font color='DarkSalmon'><b>Iterable(可迭代物件)</b></font>\n",
    "<div style=\"text-align:center\"><img src=\"https://i.imgur.com/U9UbVfm.png\" width=\"650\"/></div>\n",
    "\n",
    "* 式子最後的是<span style=\"font-family:Inconsolata; font-size:120%; color:DarkSalmon;\">iterable</span>。提醒：<span style=\"font-family:Inconsolata; font-size:100%; color:DarkSalmon;\">iterable</span>在這裡是名詞，不是形容詞。\n",
    "* [Python官網對iterable的解釋：](https://docs.python.org/3/search.html?q=iterable&check_keywords=yes&area=default)\n",
    "    > <span style=\"font-family:Inconsolata; font-size:90%; color:LightSlateGrey;\"><font color='NavajoWhite'>An object capable of returning its members one at a time.</font> Examples of iterables include all sequence types (such as list, str, and tuple) and some non-sequence types like dict, file objects, and objects of any classes you define with an __iter__() method or with a __getitem__() method that implements sequence semantics.<br><br>\n",
    "    Iterables can be used in a for loop and in many other places where a sequence is needed (zip(), map(), …)...\n",
    "    </span>\n",
    "* 最簡單的判定方法：能用for迴圈的物件，就是<span style=\"font-family:Inconsolata; font-size:100%; color:DarkSalmon;\">iterable</span>。\n",
    "* 具體說，這裡的<span style=\"font-family:Inconsolata; font-size:100%; color:DarkSalmon;\">iterable</span>包括str, list, tuple, set, dict, range()等常用物件以及其他芸芸迭代。\n"
   ]
  },
  {
   "cell_type": "code",
   "execution_count": null,
   "metadata": {},
   "outputs": [],
   "source": [
    "print(f\"{[char*2 for char in 'abcde'] = }\")\n",
    "print(f\"{[i+1 for i in [1, 3, 5]] = }\")\n",
    "print(f\"{[i-1 for i in [2, 4, 6]] = }\")\n",
    "print(f\"{[i for i in {6, 0, '0', 5}] = }\")\n",
    "d = {21:9, 16:9, 4:3, 5:4}\n",
    "print(f\"{[round(k/v, 2) for k, v in d.items()] = }\")\n",
    "print(f\"{[i**2 for i in range(9)] = }\")"
   ]
  },
  {
   "attachments": {},
   "cell_type": "markdown",
   "metadata": {},
   "source": [
    "<div style=\"text-align:left\"><img src=\"https://i.imgur.com/MefXQwn.png\" width=\"850\"/></div>\n"
   ]
  },
  {
   "attachments": {},
   "cell_type": "markdown",
   "metadata": {},
   "source": [
    "<div style=\"font-family:Inconsolata; font-size:135%;\">\n",
    "\n",
    "## <font color='SteelBlue'><b>Comprehensions-3：運作方式</b></font>\n",
    "\n",
    "* 基本上\n",
    "* \n",
    "* "
   ]
  },
  {
   "cell_type": "code",
   "execution_count": null,
   "metadata": {},
   "outputs": [],
   "source": [
    "chars = 'abcde'\n",
    "\n",
    "doubles1 = ','.join([char*2 for char in chars])\n",
    "# print(f\"{'comprehension version':26}{doubles1 = }\")\n",
    "# ------------\n",
    "doubles2 = []\n",
    "for char in chars:\n",
    "    doubles2.append(char*2)\n",
    "# doubles2 = ','.join(doubles2)   \n",
    "# print(f\"{'for loop version':26}{doubles2 = }\\n\")\n",
    "# print(f'{( doubles1 == doubles2 ) = }')\n",
    "# print(f'{( doubles1 is doubles2 ) = }')\n",
    "\n",
    "ascii_code = 96\n",
    "s1 = r\"a_abbccddeeff\"\n",
    "s2 = r\"a_abbccddeeff\"\n",
    "print(f'{( s1 == s2 ) = }')\n",
    "print(f'{( s1 is s2 ) = }')\n",
    "chr(ascii_code)"
   ]
  },
  {
   "cell_type": "code",
   "execution_count": null,
   "metadata": {},
   "outputs": [],
   "source": []
  },
  {
   "attachments": {},
   "cell_type": "markdown",
   "metadata": {},
   "source": [
    "<div style=\"font-family:Inconsolata; font-size:500%;\">\n",
    "<header>\n",
    "<div style=\"text-align:center\"><img src=\"https://i.imgur.com/iavy28z.jpg\" width=\"500\"/></div>"
   ]
  },
  {
   "attachments": {},
   "cell_type": "markdown",
   "metadata": {},
   "source": [
    "<div style=\"font-family:Inconsolata; font-size:135%;\">\n",
    "\n",
    "## <font color='SteelBlue'><b>Comprehensions-4：</b></font>\n",
    "\n",
    "* \n",
    "* \n",
    "* "
   ]
  },
  {
   "cell_type": "code",
   "execution_count": null,
   "metadata": {},
   "outputs": [],
   "source": []
  },
  {
   "attachments": {},
   "cell_type": "markdown",
   "metadata": {},
   "source": [
    "<div style=\"font-family:Inconsolata; font-size:500%;\">\n",
    "<header>\n",
    "<div style=\"text-align:center\"><img src=\"https://i.imgur.com/BGucVZR.jpg\" width=\"500\"/></div>"
   ]
  },
  {
   "attachments": {},
   "cell_type": "markdown",
   "metadata": {},
   "source": [
    "<div style=\"font-family:Inconsolata; font-size:135%;\">\n",
    "\n",
    "## <font color='SteelBlue'><b>Comprehensions-5：</b></font>\n",
    "\n",
    "* \n",
    "* \n",
    "* "
   ]
  },
  {
   "cell_type": "code",
   "execution_count": null,
   "metadata": {},
   "outputs": [],
   "source": []
  },
  {
   "attachments": {},
   "cell_type": "markdown",
   "metadata": {},
   "source": [
    "<div style=\"font-family:Inconsolata; font-size:500%;\">\n",
    "<header>\n",
    "<div style=\"text-align:center\"><img src=\"https://i.imgur.com/RwG8y2z.jpg\" width=\"500\"/></div>"
   ]
  },
  {
   "attachments": {},
   "cell_type": "markdown",
   "metadata": {},
   "source": [
    "<div style=\"font-family:Inconsolata; font-size:135%;\">\n",
    "\n",
    "## <font color='SteelBlue'><b>Comprehensions-6：</b></font>\n",
    "\n",
    "* \n",
    "* \n",
    "* "
   ]
  },
  {
   "cell_type": "code",
   "execution_count": null,
   "metadata": {},
   "outputs": [],
   "source": []
  },
  {
   "attachments": {},
   "cell_type": "markdown",
   "metadata": {},
   "source": [
    "<div style=\"font-family:Inconsolata; font-size:500%;\">\n",
    "<header>\n",
    "<div style=\"text-align:center\"><img src=\"https://i.imgur.com/LFQr7GJ.jpg\" width=\"500\"/></div>"
   ]
  },
  {
   "attachments": {},
   "cell_type": "markdown",
   "metadata": {},
   "source": [
    "<div style=\"font-family:Inconsolata; font-size:135%;\">\n",
    "\n",
    "## <font color='SteelBlue'><b>Comprehensions-7：</b></font>\n",
    "\n",
    "* \n",
    "* \n",
    "* "
   ]
  },
  {
   "cell_type": "code",
   "execution_count": null,
   "metadata": {},
   "outputs": [],
   "source": []
  },
  {
   "attachments": {},
   "cell_type": "markdown",
   "metadata": {},
   "source": [
    "<div style=\"font-family:Inconsolata; font-size:500%;\">\n",
    "<header>\n",
    "<div style=\"text-align:center\"><img src=\"https://i.imgur.com/LmdqWYN.jpg\" width=\"500\"/></div>"
   ]
  },
  {
   "attachments": {},
   "cell_type": "markdown",
   "metadata": {},
   "source": [
    "<div style=\"font-family:Inconsolata; font-size:135%;\">\n",
    "\n",
    "## <font color='SteelBlue'><b>Comprehensions-8：</b></font>\n",
    "\n",
    "* \n",
    "* \n",
    "* "
   ]
  },
  {
   "cell_type": "code",
   "execution_count": null,
   "metadata": {},
   "outputs": [],
   "source": []
  },
  {
   "attachments": {},
   "cell_type": "markdown",
   "metadata": {},
   "source": [
    "<div style=\"font-family:Inconsolata; font-size:500%;\">\n",
    "<header>\n",
    "<div style=\"text-align:center\"><img src=\"https://i.imgur.com/Ye1Lf2z.jpg\" width=\"500\"/></div>"
   ]
  },
  {
   "attachments": {},
   "cell_type": "markdown",
   "metadata": {},
   "source": [
    "<div style=\"font-family:Inconsolata; font-size:135%;\">\n",
    "\n",
    "## <font color='SteelBlue'><b>Comprehensions-9：Nested</b></font>\n",
    "\n",
    "* \n",
    "* \n",
    "* "
   ]
  },
  {
   "cell_type": "code",
   "execution_count": null,
   "metadata": {},
   "outputs": [],
   "source": []
  },
  {
   "cell_type": "code",
   "execution_count": null,
   "metadata": {},
   "outputs": [],
   "source": [
    "siblings = [('Tim', 'Gen', 'Seng'), ('Lin', 'Lan', 'Zan', 'Ting'), ('Rebecca', 'Thomas'), ]\n",
    "names = [name for sibling in siblings for name in sibling]\n",
    "\n",
    "print(f'{names = }')"
   ]
  },
  {
   "attachments": {},
   "cell_type": "markdown",
   "metadata": {},
   "source": [
    "<div style=\"font-family:Inconsolata; font-size:500%;\">\n",
    "<header>\n",
    "<div style=\"text-align:center\"><img src=\"https://i.imgur.com/XwPy6hr.jpg\" width=\"500\"/></div>"
   ]
  },
  {
   "attachments": {},
   "cell_type": "markdown",
   "metadata": {},
   "source": [
    "<div style=\"font-family:Inconsolata; font-size:135%;\">\n",
    "\n",
    "## <font color='SteelBlue'><b>Comprehensions-10：取代map()？</b></font>\n",
    "\n",
    "* 可以運作。但這是<span style=\"color:Gold; font-size:135%; font-weight: 800;\">bad practice</span>，不建議。\n",
    "* 原因：見下例。"
   ]
  },
  {
   "cell_type": "code",
   "execution_count": null,
   "metadata": {},
   "outputs": [],
   "source": [
    "def addition(n):\n",
    "    # print(n)\n",
    "    return n + n\n",
    "  \n",
    "# We double all numbers using map()\n",
    "numbers = (1, 2, 3, 4)\n",
    "result = map(addition, numbers)\n",
    "# print(list(result))\n",
    "# next(result)"
   ]
  },
  {
   "cell_type": "code",
   "execution_count": null,
   "metadata": {},
   "outputs": [],
   "source": [
    "def func(a):\n",
    "    print(a)\n",
    "    \n",
    "iterable = (1, 5, 8, 2)\n",
    "l1 = map(func, iterable)\n",
    "l1\n",
    "# can be replaced to:\n",
    "# l2 = [func(a) for a in iterable]\n",
    "# l2"
   ]
  },
  {
   "cell_type": "code",
   "execution_count": null,
   "metadata": {},
   "outputs": [],
   "source": [
    "Genius = [\"Jerry\", \"Jack\", \"tom\", \"yang\"]\n",
    "L1 = filter(lambda a: len(a) < 4, Genius)\n",
    "print(list(L1))\n",
    "# ['tom']\n",
    "L2 = [a for a in Genius if len(a) < 4]\n",
    "print(L2)"
   ]
  },
  {
   "cell_type": "code",
   "execution_count": null,
   "metadata": {},
   "outputs": [],
   "source": [
    "def square(i: int) -> int:\n",
    "    return i*i\n",
    "\n",
    "iterable = range(10)\n",
    "squares = map(square, iterable)\n",
    "print(f'{squares = }')\n",
    "# can be replaced to:\n",
    "squares = [square(iter) for iter in iterable]\n",
    "print(f'{squares = }')"
   ]
  },
  {
   "attachments": {},
   "cell_type": "markdown",
   "metadata": {},
   "source": [
    "<div style=\"font-family:Inconsolata; font-size:500%;\">\n",
    "<header>\n",
    "<div style=\"text-align:center\"><img src=\"https://i.imgur.com/cdDL3Ne.jpg\" width=\"500\"/></div>"
   ]
  },
  {
   "attachments": {},
   "cell_type": "markdown",
   "metadata": {},
   "source": [
    "<div style=\"font-family:Inconsolata; font-size:135%;\">\n",
    "\n",
    "## <font color='SteelBlue'><b>Comprehensions-11：</b></font>\n",
    "\n",
    "* \n",
    "* \n",
    "* "
   ]
  },
  {
   "cell_type": "code",
   "execution_count": null,
   "metadata": {},
   "outputs": [],
   "source": []
  },
  {
   "attachments": {},
   "cell_type": "markdown",
   "metadata": {},
   "source": [
    "<div style=\"font-family:Inconsolata; font-size:500%;\">\n",
    "<header>\n",
    "<div style=\"text-align:center\"><img src=\"https://i.imgur.com/eGUOYYN.jpg\" width=\"500\"/></div>"
   ]
  },
  {
   "attachments": {},
   "cell_type": "markdown",
   "metadata": {},
   "source": [
    "<div style=\"font-family:Inconsolata; font-size:135%;\">\n",
    "\n",
    "## <font color='SteelBlue'><b>Comprehensions-12：</b></font>\n",
    "\n",
    "* \n",
    "* \n",
    "* "
   ]
  },
  {
   "attachments": {},
   "cell_type": "markdown",
   "metadata": {},
   "source": [
    "<div style=\"font-family:Inconsolata; font-size:500%;\">\n",
    "<header>\n",
    "<div style=\"text-align:center\"><img src=\"https://i.imgur.com/nT2EKwz.jpg\" width=\"500\"/></div>"
   ]
  },
  {
   "cell_type": "code",
   "execution_count": null,
   "metadata": {},
   "outputs": [],
   "source": []
  },
  {
   "attachments": {},
   "cell_type": "markdown",
   "metadata": {},
   "source": [
    "<div style=\"font-family:Inconsolata; font-size:500%;\">\n",
    "<header>\n",
    "<div style=\"text-align:center\"><img src=\"https://i.imgur.com/X3zUvBF.jpg\" width=\"500\"/></div>"
   ]
  },
  {
   "attachments": {},
   "cell_type": "markdown",
   "metadata": {},
   "source": [
    "<div style=\"font-family:Inconsolata; font-size:135%;\">\n",
    "\n",
    "## <font color='SteelBlue'><b>Comprehensions-13：</b></font>\n",
    "\n",
    "* \n",
    "* \n",
    "* "
   ]
  },
  {
   "cell_type": "code",
   "execution_count": null,
   "metadata": {},
   "outputs": [],
   "source": []
  },
  {
   "attachments": {},
   "cell_type": "markdown",
   "metadata": {},
   "source": [
    "<div style=\"font-family:Inconsolata; font-size:135%;\">\n",
    "\n",
    "## <font color='SteelBlue'><b>Comprehensions-14：</b></font>\n",
    "\n",
    "* \n",
    "* \n",
    "* "
   ]
  },
  {
   "cell_type": "code",
   "execution_count": null,
   "metadata": {},
   "outputs": [],
   "source": []
  },
  {
   "attachments": {},
   "cell_type": "markdown",
   "metadata": {},
   "source": [
    "<div style=\"font-family:Inconsolata; font-size:135%;\">\n",
    "\n",
    "## <font color='SteelBlue'><b>Comprehensions-15：</b></font>\n",
    "\n",
    "* \n",
    "* \n",
    "* "
   ]
  },
  {
   "cell_type": "code",
   "execution_count": null,
   "metadata": {},
   "outputs": [],
   "source": []
  },
  {
   "attachments": {},
   "cell_type": "markdown",
   "metadata": {},
   "source": [
    "<div style=\"font-family:Inconsolata; font-size:500%;\">\n",
    "<header>\n",
    "<div style=\"text-align:center\"><img src=\"https://i.imgur.com/RoB7sQ4.jpg\" width=\"500\"/></div>"
   ]
  },
  {
   "attachments": {},
   "cell_type": "markdown",
   "metadata": {},
   "source": [
    "<div style=\"font-family:Inconsolata; font-size:135%;\">\n",
    "\n",
    "## <font color='SteelBlue'><b>Comprehensions-16：</b></font>\n",
    "\n",
    "* \n",
    "* \n",
    "* "
   ]
  },
  {
   "cell_type": "code",
   "execution_count": null,
   "metadata": {},
   "outputs": [],
   "source": []
  },
  {
   "attachments": {},
   "cell_type": "markdown",
   "metadata": {},
   "source": [
    "<div style=\"font-family:Inconsolata; font-size:500%;\">\n",
    "<header>\n",
    "<div style=\"text-align:center\"><img src=\"https://i.imgur.com/HMqnC2z.jpg\" width=\"500\"/></div>"
   ]
  },
  {
   "attachments": {},
   "cell_type": "markdown",
   "metadata": {},
   "source": [
    "<div style=\"font-family:Inconsolata; font-size:135%;\">\n",
    "\n",
    "## <font color='SteelBlue'><b>Comprehensions-17：</b></font>\n",
    "\n",
    "* \n",
    "* \n",
    "* "
   ]
  },
  {
   "cell_type": "code",
   "execution_count": null,
   "metadata": {},
   "outputs": [],
   "source": []
  },
  {
   "attachments": {},
   "cell_type": "markdown",
   "metadata": {},
   "source": [
    "<div style=\"font-family:Inconsolata; font-size:500%;\">\n",
    "<header>\n",
    "<div style=\"text-align:center\"><img src=\"https://i.imgur.com/9dPj9Bo.jpg\" width=\"500\"/></div>"
   ]
  },
  {
   "attachments": {},
   "cell_type": "markdown",
   "metadata": {},
   "source": [
    "<div style=\"font-family:Inconsolata; font-size:135%;\">\n",
    "\n",
    "## <font color='SteelBlue'><b>Comprehensions-18：</b></font>\n",
    "\n",
    "* \n",
    "* \n",
    "* "
   ]
  },
  {
   "cell_type": "code",
   "execution_count": null,
   "metadata": {},
   "outputs": [],
   "source": []
  },
  {
   "attachments": {},
   "cell_type": "markdown",
   "metadata": {},
   "source": [
    "<div style=\"font-family:Inconsolata; font-size:500%;\">\n",
    "<header>\n",
    "<div style=\"text-align:center\"><img src=\"https://i.imgur.com/l98eFPc.jpg\" width=\"500\"/></div>"
   ]
  },
  {
   "attachments": {},
   "cell_type": "markdown",
   "metadata": {},
   "source": [
    "<div style=\"font-family:Inconsolata; font-size:135%;\">\n",
    "\n",
    "## <font color='SteelBlue'><b>Comprehensions-19：</b></font>\n",
    "\n",
    "* \n",
    "* \n",
    "* "
   ]
  }
 ],
 "metadata": {
  "kernelspec": {
   "display_name": "Python 3",
   "language": "python",
   "name": "python3"
  },
  "language_info": {
   "codemirror_mode": {
    "name": "ipython",
    "version": 3
   },
   "file_extension": ".py",
   "mimetype": "text/x-python",
   "name": "python",
   "nbconvert_exporter": "python",
   "pygments_lexer": "ipython3",
   "version": "3.10.6"
  },
  "orig_nbformat": 4,
  "vscode": {
   "interpreter": {
    "hash": "916dbcbb3f70747c44a77c7bcd40155683ae19c65e1c03b4aa3499c5328201f1"
   }
  }
 },
 "nbformat": 4,
 "nbformat_minor": 2
}
