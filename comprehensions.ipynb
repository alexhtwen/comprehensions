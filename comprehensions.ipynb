{
 "cells": [
  {
   "attachments": {},
   "cell_type": "markdown",
   "metadata": {},
   "source": [
    "<br><br><br><br>\n",
    "<div style=\"font-family: 'Gen Jyuu Gothic Monospace Medium', 'Noto Sans TC'; font-size: 200%; line-height: 135%; text-align: center; color: GreenYellow;\">\n",
    "\n",
    "# 講講Comprehensions\n",
    "</div>\n",
    "<br><br>"
   ]
  },
  {
   "attachments": {},
   "cell_type": "markdown",
   "metadata": {},
   "source": [
    "<div style=\"font-family:Inconsolata; font-size:500%;\">\n",
    "<header>\n",
    "<div style=\"text-align:center\"><img src=\"https://i.imgur.com/Yvp1371.jpg\" width=\"500\"/></div>"
   ]
  },
  {
   "cell_type": "code",
   "execution_count": null,
   "metadata": {},
   "outputs": [],
   "source": [
    "L = map(func, iterable)\n",
    "# can be replaced to:\n",
    "L = [func(a) for a in iterable]"
   ]
  },
  {
   "attachments": {},
   "cell_type": "markdown",
   "metadata": {},
   "source": [
    "<div style=\"font-family:Inconsolata; font-size:135%;\">\n",
    "\n",
    "## <font color='SteelBlue'><b>Comprehension-1：名稱由來</b></font>\n",
    "\n",
    "* comprehension較常見的意思是：\n",
    "    > <span style=\"font-family:Inconsolata; font-size:90%; color:LightSlateGrey;\">the ability to understand completely and be familiar with a situation, facts...</span>\n",
    "* 中文是「理解力」；「領悟能力」。\n",
    "* ...\n",
    "* 不過，這個字還有以下意義：\n",
    "   > <span style=\"font-family:Inconsolata; font-size:90%; color:LightSlateGrey;\">The name comes from the concept of a set-comprehension.  Comprehension is used here to mean <font color='Gold'>complete inclusion or complete description</font>. A set-comprehension is a (usually short) complete description of a set, not an exhaustive (and possibly infinite) enumeration.</span>\n",
    "* 原來在programming和maths領域，comrehension此字由來已久，Python並不是第一個使用的。\n",
    "   > <span style=\"font-family:Inconsolata; font-size:90%; color:LightSlateGrey;\">...it has a long history. You'll find list comprehensions in many Functional Programming languages and something similar in discrete mathematics(離散數學).</span>"
   ]
  },
  {
   "attachments": {},
   "cell_type": "markdown",
   "metadata": {},
   "source": [
    "<div style=\"font-family:Inconsolata; font-size:500%;\">\n",
    "<header>\n",
    "<div style=\"text-align:center\"><img src=\"https://i.imgur.com/SiqtTaL.jpg\" width=\"500\"/></div>"
   ]
  },
  {
   "attachments": {},
   "cell_type": "markdown",
   "metadata": {},
   "source": [
    "<div style=\"font-family:Inconsolata; font-size:135%;\">\n",
    "\n",
    "## <font color='SteelBlue'><b>Comprehension-2：最簡單的用法</b></font>\n",
    "\n",
    "<span style=\"font-family:Inconsolata; font-size:120%; color:Gold;\">`my_list = [ expression for item in iterable]`</span>\n",
    "\n",
    "* 注意：式子最後的是<span style=\"font-family:Inconsolata; font-size:120%; color:Gold;\">`iterable`</span>，所以只要是`iterable`就行。\n",
    "* Python的iterables包括\n",
    "* \n"
   ]
  },
  {
   "cell_type": "code",
   "execution_count": null,
   "metadata": {},
   "outputs": [],
   "source": []
  },
  {
   "attachments": {},
   "cell_type": "markdown",
   "metadata": {},
   "source": [
    "<div style=\"font-family:Inconsolata; font-size:500%;\">\n",
    "<header>\n",
    "<div style=\"text-align:center\"><img src=\"https://i.imgur.com/2pY43Z0.jpg\" width=\"500\"/></div>"
   ]
  },
  {
   "attachments": {},
   "cell_type": "markdown",
   "metadata": {},
   "source": [
    "<div style=\"font-family:Inconsolata; font-size:135%;\">\n",
    "\n",
    "## <font color='SteelBlue'><b>Comprehension-3：</b></font>\n",
    "\n",
    "* \n",
    "* \n",
    "* "
   ]
  },
  {
   "cell_type": "code",
   "execution_count": null,
   "metadata": {},
   "outputs": [],
   "source": []
  },
  {
   "attachments": {},
   "cell_type": "markdown",
   "metadata": {},
   "source": [
    "<div style=\"font-family:Inconsolata; font-size:500%;\">\n",
    "<header>\n",
    "<div style=\"text-align:center\"><img src=\"https://i.imgur.com/iavy28z.jpg\" width=\"500\"/></div>"
   ]
  },
  {
   "attachments": {},
   "cell_type": "markdown",
   "metadata": {},
   "source": [
    "<div style=\"font-family:Inconsolata; font-size:135%;\">\n",
    "\n",
    "## <font color='SteelBlue'><b>Comprehension-4：</b></font>\n",
    "\n",
    "* \n",
    "* \n",
    "* "
   ]
  },
  {
   "cell_type": "code",
   "execution_count": null,
   "metadata": {},
   "outputs": [],
   "source": []
  },
  {
   "attachments": {},
   "cell_type": "markdown",
   "metadata": {},
   "source": [
    "<div style=\"font-family:Inconsolata; font-size:500%;\">\n",
    "<header>\n",
    "<div style=\"text-align:center\"><img src=\"https://i.imgur.com/BGucVZR.jpg\" width=\"500\"/></div>"
   ]
  },
  {
   "attachments": {},
   "cell_type": "markdown",
   "metadata": {},
   "source": [
    "<div style=\"font-family:Inconsolata; font-size:135%;\">\n",
    "\n",
    "## <font color='SteelBlue'><b>Comprehension-5：</b></font>\n",
    "\n",
    "* \n",
    "* \n",
    "* "
   ]
  },
  {
   "cell_type": "code",
   "execution_count": null,
   "metadata": {},
   "outputs": [],
   "source": []
  },
  {
   "attachments": {},
   "cell_type": "markdown",
   "metadata": {},
   "source": [
    "<div style=\"font-family:Inconsolata; font-size:500%;\">\n",
    "<header>\n",
    "<div style=\"text-align:center\"><img src=\"https://i.imgur.com/RwG8y2z.jpg\" width=\"500\"/></div>"
   ]
  },
  {
   "attachments": {},
   "cell_type": "markdown",
   "metadata": {},
   "source": [
    "<div style=\"font-family:Inconsolata; font-size:135%;\">\n",
    "\n",
    "## <font color='SteelBlue'><b>Comprehension-6：</b></font>\n",
    "\n",
    "* \n",
    "* \n",
    "* "
   ]
  },
  {
   "cell_type": "code",
   "execution_count": null,
   "metadata": {},
   "outputs": [],
   "source": []
  },
  {
   "attachments": {},
   "cell_type": "markdown",
   "metadata": {},
   "source": [
    "<div style=\"font-family:Inconsolata; font-size:500%;\">\n",
    "<header>\n",
    "<div style=\"text-align:center\"><img src=\"https://i.imgur.com/LFQr7GJ.jpg\" width=\"500\"/></div>"
   ]
  },
  {
   "attachments": {},
   "cell_type": "markdown",
   "metadata": {},
   "source": [
    "<div style=\"font-family:Inconsolata; font-size:135%;\">\n",
    "\n",
    "## <font color='SteelBlue'><b>Comprehension-7：</b></font>\n",
    "\n",
    "* \n",
    "* \n",
    "* "
   ]
  },
  {
   "cell_type": "code",
   "execution_count": null,
   "metadata": {},
   "outputs": [],
   "source": []
  },
  {
   "attachments": {},
   "cell_type": "markdown",
   "metadata": {},
   "source": [
    "<div style=\"font-family:Inconsolata; font-size:500%;\">\n",
    "<header>\n",
    "<div style=\"text-align:center\"><img src=\"https://i.imgur.com/LmdqWYN.jpg\" width=\"500\"/></div>"
   ]
  },
  {
   "attachments": {},
   "cell_type": "markdown",
   "metadata": {},
   "source": [
    "<div style=\"font-family:Inconsolata; font-size:135%;\">\n",
    "\n",
    "## <font color='SteelBlue'><b>Comprehension-8：</b></font>\n",
    "\n",
    "* \n",
    "* \n",
    "* "
   ]
  },
  {
   "cell_type": "code",
   "execution_count": null,
   "metadata": {},
   "outputs": [],
   "source": []
  },
  {
   "attachments": {},
   "cell_type": "markdown",
   "metadata": {},
   "source": [
    "<div style=\"font-family:Inconsolata; font-size:500%;\">\n",
    "<header>\n",
    "<div style=\"text-align:center\"><img src=\"https://i.imgur.com/Ye1Lf2z.jpg\" width=\"500\"/></div>"
   ]
  },
  {
   "attachments": {},
   "cell_type": "markdown",
   "metadata": {},
   "source": [
    "<div style=\"font-family:Inconsolata; font-size:135%;\">\n",
    "\n",
    "## <font color='SteelBlue'><b>Comprehension-9：Nested</b></font>\n",
    "\n",
    "* \n",
    "* \n",
    "* "
   ]
  },
  {
   "cell_type": "code",
   "execution_count": null,
   "metadata": {},
   "outputs": [],
   "source": []
  },
  {
   "cell_type": "code",
   "execution_count": 13,
   "metadata": {},
   "outputs": [
    {
     "name": "stdout",
     "output_type": "stream",
     "text": [
      "names = ['Tim', 'Gen', 'Seng', 'Lin', 'Lan', 'Zan', 'Ting', 'Rebecca', 'Thomas']\n"
     ]
    }
   ],
   "source": [
    "siblings = [('Tim', 'Gen', 'Seng'), ('Lin', 'Lan', 'Zan', 'Ting'), ('Rebecca', 'Thomas'), ]\n",
    "names = [name for sibling in siblings for name in sibling]\n",
    "\n",
    "print(f'{names = }')"
   ]
  },
  {
   "attachments": {},
   "cell_type": "markdown",
   "metadata": {},
   "source": [
    "<div style=\"font-family:Inconsolata; font-size:500%;\">\n",
    "<header>\n",
    "<div style=\"text-align:center\"><img src=\"https://i.imgur.com/XwPy6hr.jpg\" width=\"500\"/></div>"
   ]
  },
  {
   "attachments": {},
   "cell_type": "markdown",
   "metadata": {},
   "source": [
    "<div style=\"font-family:Inconsolata; font-size:135%;\">\n",
    "\n",
    "## <font color='SteelBlue'><b>Comprehension-10：取代map()？</b></font>\n",
    "\n",
    "* 可以運作。但這是<span style=\"color:Gold; font-size:135%; font-weight: 800;\">bad practice</span>，不建議。\n",
    "* 原因：見下例。"
   ]
  },
  {
   "cell_type": "code",
   "execution_count": 66,
   "metadata": {},
   "outputs": [],
   "source": [
    "# Linux version(高音版)\n",
    "def play_song(notation):\n",
    "    # print('-------------')\n",
    "    import os\n",
    "\n",
    "    frequencies = {\n",
    "        'C3' : 130.81,    # 1\n",
    "        'C#3': 138.59,    # 1#\n",
    "        'D3' : 146.83,    # 2\n",
    "        'D#3': 155.56,    # 2#\n",
    "        'E3' : 164.81,    # 3\n",
    "        'F3' : 174.61,    # 4\n",
    "        'F#3': 185.00,    # 4#\n",
    "        'G3' : 196.00,    # 5\n",
    "        'G#3': 207.65,    # 5#\n",
    "        'A3' : 220.00,    # 6\n",
    "        'A#3': 233.08,    # 6#\n",
    "        'B3' : 246.94,    # 7\n",
    "        'C4' : 261.63,    # 1\n",
    "        'C#4': 277.18,    # 1#\n",
    "        'D4' : 293.66,    # 2\n",
    "        'D#4': 311.13,    # 2#  \n",
    "        'E4' : 329.63,    # 3\n",
    "        'F4' : 349.23,    # 4\n",
    "        'F#4': 369.99,    # 4#    \n",
    "        'G4' : 391.99,    # 5\n",
    "        'G#4': 415.30,    # 5#\n",
    "        'A4' : 440.00,    # 6\n",
    "        'A#4': 466.16,    # 6#\n",
    "        'B4' : 493.88,    # 7\n",
    "        'C5' : 523.25,    # 1\n",
    "        'C#5': 554.37,    # 1#\n",
    "        'D5' : 587.33,    # 2\n",
    "        'D#5': 622.25,    # 2#  \n",
    "        'E5' : 659.26,    # 3\n",
    "        'F5' : 698.46,    # 4\n",
    "        'F#5': 739.99,    # 4#    \n",
    "        'G5' : 783.99,    # 5\n",
    "        'G#5': 830.61,    # 5#\n",
    "        'A5' : 880.00,    # 6\n",
    "        'A#5': 932.33,    # 6#\n",
    "        'B5' : 987.77,    # 7\n",
    "    }\n",
    "\n",
    "    # durations = {'H': 300, 'M': 600, 'D': 1200, 'T': 1800, 'Q': 2400}\n",
    "    durations = {'H': 250, 'M': 500, 'D': 1000, 'T': 1500, 'Q': 2000}\n",
    "\n",
    "    # for notation in notations:\n",
    "    note = notation.split()\n",
    "    frequency = frequencies.get(note[0])\n",
    "    duration = durations.get(note[1])\n",
    "    os.system(f'beep -f {frequency} -l {duration}')\n",
    "    # print(f'{frequency}  {duration}')\n",
    "    \n",
    "        \n",
    "\n",
    "notations = ('G4 H', 'G4 H', 'A4 M', 'G4 M', 'C5 M', 'B4 D', 'G4 H', 'G4 H', \n",
    "             'A4 M', 'G4 M', 'D5 M', 'C5 D', 'G4 H', 'G4 H', 'G5 M', 'E5 M', \n",
    "             'C5 M', 'B4 M', 'A4 M', 'F5 H', 'F5 H', 'E5 M', 'C5 M', 'D5 M', 'C5 T')\n",
    "# play_song(notations)\n",
    "\n",
    "song = map(play_song, notations)\n",
    "# print(song)\n",
    "# next(song)\n",
    "# next(song)\n"
   ]
  },
  {
   "cell_type": "code",
   "execution_count": 95,
   "metadata": {},
   "outputs": [],
   "source": [
    "try:\n",
    "    next(song)\n",
    "except StopIteration:\n",
    "    ...   \n",
    "# _ = list(song)\n",
    "\n",
    "# [play_song(notation) for notation in notations]\n"
   ]
  },
  {
   "cell_type": "code",
   "execution_count": 120,
   "metadata": {},
   "outputs": [],
   "source": [
    "def addition(n):\n",
    "    # print(n)\n",
    "    return n + n\n",
    "  \n",
    "# We double all numbers using map()\n",
    "numbers = (1, 2, 3, 4)\n",
    "result = map(addition, numbers)\n",
    "# print(list(result))\n",
    "# next(result)"
   ]
  },
  {
   "cell_type": "code",
   "execution_count": 125,
   "metadata": {},
   "outputs": [
    {
     "name": "stdout",
     "output_type": "stream",
     "text": [
      "Iterating exausted.\n"
     ]
    }
   ],
   "source": [
    "try:\n",
    "    next(result)\n",
    "except StopIteration:\n",
    "    print('Iterating exausted.')    "
   ]
  },
  {
   "cell_type": "code",
   "execution_count": 27,
   "metadata": {},
   "outputs": [
    {
     "data": {
      "text/plain": [
       "<map at 0x7f90e1fc84f0>"
      ]
     },
     "execution_count": 27,
     "metadata": {},
     "output_type": "execute_result"
    }
   ],
   "source": [
    "def func(a):\n",
    "    print(a)\n",
    "    \n",
    "iterable = (1, 5, 8, 2)\n",
    "l1 = map(func, iterable)\n",
    "l1\n",
    "# can be replaced to:\n",
    "# l2 = [func(a) for a in iterable]\n",
    "# l2"
   ]
  },
  {
   "cell_type": "code",
   "execution_count": 17,
   "metadata": {},
   "outputs": [
    {
     "name": "stdout",
     "output_type": "stream",
     "text": [
      "['tom']\n",
      "['tom']\n"
     ]
    }
   ],
   "source": [
    "Genius = [\"Jerry\", \"Jack\", \"tom\", \"yang\"]\n",
    "L1 = filter(lambda a: len(a) < 4, Genius)\n",
    "print(list(L1))\n",
    "# ['tom']\n",
    "L2 = [a for a in Genius if len(a) < 4]\n",
    "print(L2)"
   ]
  },
  {
   "cell_type": "code",
   "execution_count": 14,
   "metadata": {},
   "outputs": [
    {
     "name": "stdout",
     "output_type": "stream",
     "text": [
      "squares = <map object at 0x7f90e1e5dc30>\n",
      "squares = [0, 1, 4, 9, 16, 25, 36, 49, 64, 81]\n"
     ]
    }
   ],
   "source": [
    "def square(i: int) -> int:\n",
    "    return i*i\n",
    "\n",
    "iterable = range(10)\n",
    "squares = map(square, iterable)\n",
    "print(f'{squares = }')\n",
    "# can be replaced to:\n",
    "squares = [square(iter) for iter in iterable]\n",
    "print(f'{squares = }')"
   ]
  },
  {
   "attachments": {},
   "cell_type": "markdown",
   "metadata": {},
   "source": [
    "<div style=\"font-family:Inconsolata; font-size:500%;\">\n",
    "<header>\n",
    "<div style=\"text-align:center\"><img src=\"https://i.imgur.com/cdDL3Ne.jpg\" width=\"500\"/></div>"
   ]
  },
  {
   "attachments": {},
   "cell_type": "markdown",
   "metadata": {},
   "source": [
    "<div style=\"font-family:Inconsolata; font-size:135%;\">\n",
    "\n",
    "## <font color='SteelBlue'><b>Comprehension-11：</b></font>\n",
    "\n",
    "* \n",
    "* \n",
    "* "
   ]
  },
  {
   "cell_type": "code",
   "execution_count": null,
   "metadata": {},
   "outputs": [],
   "source": []
  },
  {
   "attachments": {},
   "cell_type": "markdown",
   "metadata": {},
   "source": [
    "<div style=\"font-family:Inconsolata; font-size:500%;\">\n",
    "<header>\n",
    "<div style=\"text-align:center\"><img src=\"https://i.imgur.com/eGUOYYN.jpg\" width=\"500\"/></div>"
   ]
  },
  {
   "attachments": {},
   "cell_type": "markdown",
   "metadata": {},
   "source": [
    "<div style=\"font-family:Inconsolata; font-size:135%;\">\n",
    "\n",
    "## <font color='SteelBlue'><b>Comprehension-12：</b></font>\n",
    "\n",
    "* \n",
    "* \n",
    "* "
   ]
  },
  {
   "cell_type": "code",
   "execution_count": null,
   "metadata": {},
   "outputs": [],
   "source": []
  },
  {
   "attachments": {},
   "cell_type": "markdown",
   "metadata": {},
   "source": [
    "<div style=\"font-family:Inconsolata; font-size:500%;\">\n",
    "<header>\n",
    "<div style=\"text-align:center\"><img src=\"https://i.imgur.com/X3zUvBF.jpg\" width=\"500\"/></div>"
   ]
  },
  {
   "attachments": {},
   "cell_type": "markdown",
   "metadata": {},
   "source": [
    "<div style=\"font-family:Inconsolata; font-size:135%;\">\n",
    "\n",
    "## <font color='SteelBlue'><b>Comprehension-13：</b></font>\n",
    "\n",
    "* \n",
    "* \n",
    "* "
   ]
  },
  {
   "cell_type": "code",
   "execution_count": null,
   "metadata": {},
   "outputs": [],
   "source": []
  },
  {
   "attachments": {},
   "cell_type": "markdown",
   "metadata": {},
   "source": [
    "<div style=\"font-family:Inconsolata; font-size:500%;\">\n",
    "<header>\n",
    "<div style=\"text-align:center\"><img src=\"https://i.imgur.com/t3uiGKs.jpg\" width=\"500\"/></div>"
   ]
  },
  {
   "attachments": {},
   "cell_type": "markdown",
   "metadata": {},
   "source": [
    "<div style=\"font-family:Inconsolata; font-size:135%;\">\n",
    "\n",
    "## <font color='SteelBlue'><b>Comprehension-14：</b></font>\n",
    "\n",
    "* \n",
    "* \n",
    "* "
   ]
  },
  {
   "cell_type": "code",
   "execution_count": null,
   "metadata": {},
   "outputs": [],
   "source": []
  },
  {
   "attachments": {},
   "cell_type": "markdown",
   "metadata": {},
   "source": [
    "<div style=\"font-family:Inconsolata; font-size:500%;\">\n",
    "<header>\n",
    "<div style=\"text-align:center\"><img src=\"https://i.imgur.com/nT2EKwz.jpg\" width=\"500\"/></div>"
   ]
  },
  {
   "attachments": {},
   "cell_type": "markdown",
   "metadata": {},
   "source": [
    "<div style=\"font-family:Inconsolata; font-size:135%;\">\n",
    "\n",
    "## <font color='SteelBlue'><b>Comprehension-15：</b></font>\n",
    "\n",
    "* \n",
    "* \n",
    "* "
   ]
  },
  {
   "cell_type": "code",
   "execution_count": null,
   "metadata": {},
   "outputs": [],
   "source": []
  },
  {
   "attachments": {},
   "cell_type": "markdown",
   "metadata": {},
   "source": [
    "<div style=\"font-family:Inconsolata; font-size:500%;\">\n",
    "<header>\n",
    "<div style=\"text-align:center\"><img src=\"https://i.imgur.com/RoB7sQ4.jpg\" width=\"500\"/></div>"
   ]
  },
  {
   "attachments": {},
   "cell_type": "markdown",
   "metadata": {},
   "source": [
    "<div style=\"font-family:Inconsolata; font-size:135%;\">\n",
    "\n",
    "## <font color='SteelBlue'><b>Comprehension-16：</b></font>\n",
    "\n",
    "* \n",
    "* \n",
    "* "
   ]
  },
  {
   "cell_type": "code",
   "execution_count": null,
   "metadata": {},
   "outputs": [],
   "source": []
  },
  {
   "attachments": {},
   "cell_type": "markdown",
   "metadata": {},
   "source": [
    "<div style=\"font-family:Inconsolata; font-size:500%;\">\n",
    "<header>\n",
    "<div style=\"text-align:center\"><img src=\"https://i.imgur.com/HMqnC2z.jpg\" width=\"500\"/></div>"
   ]
  },
  {
   "attachments": {},
   "cell_type": "markdown",
   "metadata": {},
   "source": [
    "<div style=\"font-family:Inconsolata; font-size:135%;\">\n",
    "\n",
    "## <font color='SteelBlue'><b>Comprehension-17：</b></font>\n",
    "\n",
    "* \n",
    "* \n",
    "* "
   ]
  },
  {
   "cell_type": "code",
   "execution_count": null,
   "metadata": {},
   "outputs": [],
   "source": []
  },
  {
   "attachments": {},
   "cell_type": "markdown",
   "metadata": {},
   "source": [
    "<div style=\"font-family:Inconsolata; font-size:500%;\">\n",
    "<header>\n",
    "<div style=\"text-align:center\"><img src=\"https://i.imgur.com/9dPj9Bo.jpg\" width=\"500\"/></div>"
   ]
  },
  {
   "attachments": {},
   "cell_type": "markdown",
   "metadata": {},
   "source": [
    "<div style=\"font-family:Inconsolata; font-size:135%;\">\n",
    "\n",
    "## <font color='SteelBlue'><b>Comprehension-18：</b></font>\n",
    "\n",
    "* \n",
    "* \n",
    "* "
   ]
  },
  {
   "cell_type": "code",
   "execution_count": null,
   "metadata": {},
   "outputs": [],
   "source": []
  },
  {
   "attachments": {},
   "cell_type": "markdown",
   "metadata": {},
   "source": [
    "<div style=\"font-family:Inconsolata; font-size:500%;\">\n",
    "<header>\n",
    "<div style=\"text-align:center\"><img src=\"https://i.imgur.com/l98eFPc.jpg\" width=\"500\"/></div>"
   ]
  },
  {
   "attachments": {},
   "cell_type": "markdown",
   "metadata": {},
   "source": [
    "<div style=\"font-family:Inconsolata; font-size:135%;\">\n",
    "\n",
    "## <font color='SteelBlue'><b>Comprehension-19：</b></font>\n",
    "\n",
    "* \n",
    "* \n",
    "* "
   ]
  },
  {
   "cell_type": "code",
   "execution_count": null,
   "metadata": {},
   "outputs": [],
   "source": []
  }
 ],
 "metadata": {
  "kernelspec": {
   "display_name": "Python 3",
   "language": "python",
   "name": "python3"
  },
  "language_info": {
   "codemirror_mode": {
    "name": "ipython",
    "version": 3
   },
   "file_extension": ".py",
   "mimetype": "text/x-python",
   "name": "python",
   "nbconvert_exporter": "python",
   "pygments_lexer": "ipython3",
   "version": "3.10.6"
  },
  "orig_nbformat": 4,
  "vscode": {
   "interpreter": {
    "hash": "916dbcbb3f70747c44a77c7bcd40155683ae19c65e1c03b4aa3499c5328201f1"
   }
  }
 },
 "nbformat": 4,
 "nbformat_minor": 2
}
